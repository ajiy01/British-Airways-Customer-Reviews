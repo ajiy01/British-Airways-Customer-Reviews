{
 "cells": [
  {
   "cell_type": "code",
   "execution_count": 1,
   "metadata": {},
   "outputs": [],
   "source": [
    "import pandas as pd\n",
    "import numpy as np\n",
    "import requests"
   ]
  },
  {
   "cell_type": "code",
   "execution_count": 2,
   "metadata": {},
   "outputs": [
    {
     "data": {
      "text/html": [
       "<div>\n",
       "<style scoped>\n",
       "    .dataframe tbody tr th:only-of-type {\n",
       "        vertical-align: middle;\n",
       "    }\n",
       "\n",
       "    .dataframe tbody tr th {\n",
       "        vertical-align: top;\n",
       "    }\n",
       "\n",
       "    .dataframe thead th {\n",
       "        text-align: right;\n",
       "    }\n",
       "</style>\n",
       "<table border=\"1\" class=\"dataframe\">\n",
       "  <thead>\n",
       "    <tr style=\"text-align: right;\">\n",
       "      <th></th>\n",
       "      <th>reviews</th>\n",
       "    </tr>\n",
       "  </thead>\n",
       "  <tbody>\n",
       "    <tr>\n",
       "      <th>0</th>\n",
       "      <td>✅ Trip Verified |  Booked a BA holiday to Marr...</td>\n",
       "    </tr>\n",
       "    <tr>\n",
       "      <th>1</th>\n",
       "      <td>✅ Trip Verified | Extremely sub-par service. H...</td>\n",
       "    </tr>\n",
       "    <tr>\n",
       "      <th>2</th>\n",
       "      <td>✅ Trip Verified |  I virtually gave up on Brit...</td>\n",
       "    </tr>\n",
       "    <tr>\n",
       "      <th>3</th>\n",
       "      <td>✅ Trip Verified |  I was pleasantly surprised ...</td>\n",
       "    </tr>\n",
       "    <tr>\n",
       "      <th>4</th>\n",
       "      <td>✅ Trip Verified |  British Airways is late, th...</td>\n",
       "    </tr>\n",
       "    <tr>\n",
       "      <th>...</th>\n",
       "      <td>...</td>\n",
       "    </tr>\n",
       "    <tr>\n",
       "      <th>3421</th>\n",
       "      <td>Flight from Heathrow to Toronto. Booked emerge...</td>\n",
       "    </tr>\n",
       "    <tr>\n",
       "      <th>3422</th>\n",
       "      <td>LHR to HAM. Purser addresses all club passenge...</td>\n",
       "    </tr>\n",
       "    <tr>\n",
       "      <th>3423</th>\n",
       "      <td>My son who had worked for British Airways urge...</td>\n",
       "    </tr>\n",
       "    <tr>\n",
       "      <th>3424</th>\n",
       "      <td>London City-New York JFK via Shannon on A318 b...</td>\n",
       "    </tr>\n",
       "    <tr>\n",
       "      <th>3425</th>\n",
       "      <td>SIN-LHR BA12 B747-436 First Class. Old aircraf...</td>\n",
       "    </tr>\n",
       "  </tbody>\n",
       "</table>\n",
       "<p>3426 rows × 1 columns</p>\n",
       "</div>"
      ],
      "text/plain": [
       "                                                reviews\n",
       "0     ✅ Trip Verified |  Booked a BA holiday to Marr...\n",
       "1     ✅ Trip Verified | Extremely sub-par service. H...\n",
       "2     ✅ Trip Verified |  I virtually gave up on Brit...\n",
       "3     ✅ Trip Verified |  I was pleasantly surprised ...\n",
       "4     ✅ Trip Verified |  British Airways is late, th...\n",
       "...                                                 ...\n",
       "3421  Flight from Heathrow to Toronto. Booked emerge...\n",
       "3422  LHR to HAM. Purser addresses all club passenge...\n",
       "3423  My son who had worked for British Airways urge...\n",
       "3424  London City-New York JFK via Shannon on A318 b...\n",
       "3425  SIN-LHR BA12 B747-436 First Class. Old aircraf...\n",
       "\n",
       "[3426 rows x 1 columns]"
      ]
     },
     "execution_count": 2,
     "metadata": {},
     "output_type": "execute_result"
    }
   ],
   "source": [
    "## Reading CSV dataset\n",
    "df = pd.read_csv('BA_reviews.csv')\n",
    "df"
   ]
  },
  {
   "cell_type": "code",
   "execution_count": 3,
   "metadata": {
    "scrolled": false
   },
   "outputs": [
    {
     "name": "stdout",
     "output_type": "stream",
     "text": [
      "<class 'pandas.core.frame.DataFrame'>\n",
      "RangeIndex: 3426 entries, 0 to 3425\n",
      "Data columns (total 1 columns):\n",
      " #   Column   Non-Null Count  Dtype \n",
      "---  ------   --------------  ----- \n",
      " 0   reviews  3426 non-null   object\n",
      "dtypes: object(1)\n",
      "memory usage: 26.9+ KB\n"
     ]
    }
   ],
   "source": [
    "df.info()"
   ]
  },
  {
   "cell_type": "code",
   "execution_count": 4,
   "metadata": {},
   "outputs": [
    {
     "data": {
      "text/plain": [
       "18"
      ]
     },
     "execution_count": 4,
     "metadata": {},
     "output_type": "execute_result"
    }
   ],
   "source": [
    "## Counting Duplicated Data\n",
    "df.duplicated().sum()"
   ]
  },
  {
   "cell_type": "code",
   "execution_count": 5,
   "metadata": {},
   "outputs": [
    {
     "data": {
      "text/html": [
       "<div>\n",
       "<style scoped>\n",
       "    .dataframe tbody tr th:only-of-type {\n",
       "        vertical-align: middle;\n",
       "    }\n",
       "\n",
       "    .dataframe tbody tr th {\n",
       "        vertical-align: top;\n",
       "    }\n",
       "\n",
       "    .dataframe thead th {\n",
       "        text-align: right;\n",
       "    }\n",
       "</style>\n",
       "<table border=\"1\" class=\"dataframe\">\n",
       "  <thead>\n",
       "    <tr style=\"text-align: right;\">\n",
       "      <th></th>\n",
       "      <th>reviews</th>\n",
       "    </tr>\n",
       "  </thead>\n",
       "  <tbody>\n",
       "    <tr>\n",
       "      <th>2282</th>\n",
       "      <td>British Airways from Tampa to Gatwick on Boein...</td>\n",
       "    </tr>\n",
       "    <tr>\n",
       "      <th>2284</th>\n",
       "      <td>London Heathrow to Miami on one of British Air...</td>\n",
       "    </tr>\n",
       "    <tr>\n",
       "      <th>2701</th>\n",
       "      <td>BA seem to be trying harder ground customer se...</td>\n",
       "    </tr>\n",
       "    <tr>\n",
       "      <th>2904</th>\n",
       "      <td>Recently completed a round-trip LGW-Barcelona....</td>\n",
       "    </tr>\n",
       "    <tr>\n",
       "      <th>2905</th>\n",
       "      <td>LHR-HKG-LHR in First. A brief trip to celebrat...</td>\n",
       "    </tr>\n",
       "    <tr>\n",
       "      <th>2906</th>\n",
       "      <td>BA179 Jan 6 2015 LHR-JFK. First. T5 is great f...</td>\n",
       "    </tr>\n",
       "    <tr>\n",
       "      <th>2907</th>\n",
       "      <td>London-Gatwick to Venice on 30 December 2014 e...</td>\n",
       "    </tr>\n",
       "    <tr>\n",
       "      <th>2908</th>\n",
       "      <td>We flew from Gatwick to Jamaica in November. C...</td>\n",
       "    </tr>\n",
       "    <tr>\n",
       "      <th>2909</th>\n",
       "      <td>Heathrow to Newark on 787 aircraft. Plane clea...</td>\n",
       "    </tr>\n",
       "    <tr>\n",
       "      <th>2910</th>\n",
       "      <td>Just back from a fantastic 2.5 week trip to Th...</td>\n",
       "    </tr>\n",
       "    <tr>\n",
       "      <th>2911</th>\n",
       "      <td>San Diego-LHR-MAN. On 6th January we flew from...</td>\n",
       "    </tr>\n",
       "    <tr>\n",
       "      <th>2912</th>\n",
       "      <td>BA 870 22nd Dec 2014. Flew from London to Buda...</td>\n",
       "    </tr>\n",
       "    <tr>\n",
       "      <th>3002</th>\n",
       "      <td>Can't say anything negative about British Air....</td>\n",
       "    </tr>\n",
       "    <tr>\n",
       "      <th>3100</th>\n",
       "      <td>B787. Just returned from a London - Toronto - ...</td>\n",
       "    </tr>\n",
       "    <tr>\n",
       "      <th>3101</th>\n",
       "      <td>I travelled to Hong Kong with British Airways ...</td>\n",
       "    </tr>\n",
       "    <tr>\n",
       "      <th>3102</th>\n",
       "      <td>LHR-MXP-LHR. Check in/bag drop at T5 once agai...</td>\n",
       "    </tr>\n",
       "    <tr>\n",
       "      <th>3103</th>\n",
       "      <td>Took 6 BA flights as part of a OneWorld RTW tr...</td>\n",
       "    </tr>\n",
       "    <tr>\n",
       "      <th>3200</th>\n",
       "      <td>I flew from Singapore to Heathrow on a B747 wh...</td>\n",
       "    </tr>\n",
       "  </tbody>\n",
       "</table>\n",
       "</div>"
      ],
      "text/plain": [
       "                                                reviews\n",
       "2282  British Airways from Tampa to Gatwick on Boein...\n",
       "2284  London Heathrow to Miami on one of British Air...\n",
       "2701  BA seem to be trying harder ground customer se...\n",
       "2904  Recently completed a round-trip LGW-Barcelona....\n",
       "2905  LHR-HKG-LHR in First. A brief trip to celebrat...\n",
       "2906  BA179 Jan 6 2015 LHR-JFK. First. T5 is great f...\n",
       "2907  London-Gatwick to Venice on 30 December 2014 e...\n",
       "2908  We flew from Gatwick to Jamaica in November. C...\n",
       "2909  Heathrow to Newark on 787 aircraft. Plane clea...\n",
       "2910  Just back from a fantastic 2.5 week trip to Th...\n",
       "2911  San Diego-LHR-MAN. On 6th January we flew from...\n",
       "2912  BA 870 22nd Dec 2014. Flew from London to Buda...\n",
       "3002  Can't say anything negative about British Air....\n",
       "3100  B787. Just returned from a London - Toronto - ...\n",
       "3101  I travelled to Hong Kong with British Airways ...\n",
       "3102  LHR-MXP-LHR. Check in/bag drop at T5 once agai...\n",
       "3103  Took 6 BA flights as part of a OneWorld RTW tr...\n",
       "3200  I flew from Singapore to Heathrow on a B747 wh..."
      ]
     },
     "execution_count": 5,
     "metadata": {},
     "output_type": "execute_result"
    }
   ],
   "source": [
    "## Printing Rows with Duplicated Values\n",
    "duplicates = df[df.duplicated()]\n",
    "duplicates"
   ]
  },
  {
   "cell_type": "code",
   "execution_count": 6,
   "metadata": {},
   "outputs": [
    {
     "data": {
      "text/html": [
       "<div>\n",
       "<style scoped>\n",
       "    .dataframe tbody tr th:only-of-type {\n",
       "        vertical-align: middle;\n",
       "    }\n",
       "\n",
       "    .dataframe tbody tr th {\n",
       "        vertical-align: top;\n",
       "    }\n",
       "\n",
       "    .dataframe thead th {\n",
       "        text-align: right;\n",
       "    }\n",
       "</style>\n",
       "<table border=\"1\" class=\"dataframe\">\n",
       "  <thead>\n",
       "    <tr style=\"text-align: right;\">\n",
       "      <th></th>\n",
       "      <th>reviews</th>\n",
       "    </tr>\n",
       "  </thead>\n",
       "  <tbody>\n",
       "    <tr>\n",
       "      <th>0</th>\n",
       "      <td>✅ Trip Verified |  Booked a BA holiday to Marr...</td>\n",
       "    </tr>\n",
       "    <tr>\n",
       "      <th>1</th>\n",
       "      <td>✅ Trip Verified | Extremely sub-par service. H...</td>\n",
       "    </tr>\n",
       "    <tr>\n",
       "      <th>2</th>\n",
       "      <td>✅ Trip Verified |  I virtually gave up on Brit...</td>\n",
       "    </tr>\n",
       "    <tr>\n",
       "      <th>3</th>\n",
       "      <td>✅ Trip Verified |  I was pleasantly surprised ...</td>\n",
       "    </tr>\n",
       "    <tr>\n",
       "      <th>4</th>\n",
       "      <td>✅ Trip Verified |  British Airways is late, th...</td>\n",
       "    </tr>\n",
       "    <tr>\n",
       "      <th>...</th>\n",
       "      <td>...</td>\n",
       "    </tr>\n",
       "    <tr>\n",
       "      <th>3421</th>\n",
       "      <td>Flight from Heathrow to Toronto. Booked emerge...</td>\n",
       "    </tr>\n",
       "    <tr>\n",
       "      <th>3422</th>\n",
       "      <td>LHR to HAM. Purser addresses all club passenge...</td>\n",
       "    </tr>\n",
       "    <tr>\n",
       "      <th>3423</th>\n",
       "      <td>My son who had worked for British Airways urge...</td>\n",
       "    </tr>\n",
       "    <tr>\n",
       "      <th>3424</th>\n",
       "      <td>London City-New York JFK via Shannon on A318 b...</td>\n",
       "    </tr>\n",
       "    <tr>\n",
       "      <th>3425</th>\n",
       "      <td>SIN-LHR BA12 B747-436 First Class. Old aircraf...</td>\n",
       "    </tr>\n",
       "  </tbody>\n",
       "</table>\n",
       "<p>3408 rows × 1 columns</p>\n",
       "</div>"
      ],
      "text/plain": [
       "                                                reviews\n",
       "0     ✅ Trip Verified |  Booked a BA holiday to Marr...\n",
       "1     ✅ Trip Verified | Extremely sub-par service. H...\n",
       "2     ✅ Trip Verified |  I virtually gave up on Brit...\n",
       "3     ✅ Trip Verified |  I was pleasantly surprised ...\n",
       "4     ✅ Trip Verified |  British Airways is late, th...\n",
       "...                                                 ...\n",
       "3421  Flight from Heathrow to Toronto. Booked emerge...\n",
       "3422  LHR to HAM. Purser addresses all club passenge...\n",
       "3423  My son who had worked for British Airways urge...\n",
       "3424  London City-New York JFK via Shannon on A318 b...\n",
       "3425  SIN-LHR BA12 B747-436 First Class. Old aircraf...\n",
       "\n",
       "[3408 rows x 1 columns]"
      ]
     },
     "execution_count": 6,
     "metadata": {},
     "output_type": "execute_result"
    }
   ],
   "source": [
    "## Dropping Duplicate Values\n",
    "df = df.drop_duplicates()\n",
    "df"
   ]
  },
  {
   "cell_type": "code",
   "execution_count": 7,
   "metadata": {},
   "outputs": [
    {
     "name": "stderr",
     "output_type": "stream",
     "text": [
      "/var/folders/87/jh63yc3x2tgf72ln53c1n40c0000gn/T/ipykernel_9043/2569450129.py:33: SettingWithCopyWarning: \n",
      "A value is trying to be set on a copy of a slice from a DataFrame.\n",
      "Try using .loc[row_indexer,col_indexer] = value instead\n",
      "\n",
      "See the caveats in the documentation: https://pandas.pydata.org/pandas-docs/stable/user_guide/indexing.html#returning-a-view-versus-a-copy\n",
      "  df['clean_reviews'] = df['reviews'].apply(review_cleaner)\n"
     ]
    },
    {
     "data": {
      "text/html": [
       "<div>\n",
       "<style scoped>\n",
       "    .dataframe tbody tr th:only-of-type {\n",
       "        vertical-align: middle;\n",
       "    }\n",
       "\n",
       "    .dataframe tbody tr th {\n",
       "        vertical-align: top;\n",
       "    }\n",
       "\n",
       "    .dataframe thead th {\n",
       "        text-align: right;\n",
       "    }\n",
       "</style>\n",
       "<table border=\"1\" class=\"dataframe\">\n",
       "  <thead>\n",
       "    <tr style=\"text-align: right;\">\n",
       "      <th></th>\n",
       "      <th>reviews</th>\n",
       "      <th>clean_reviews</th>\n",
       "    </tr>\n",
       "  </thead>\n",
       "  <tbody>\n",
       "    <tr>\n",
       "      <th>0</th>\n",
       "      <td>✅ Trip Verified |  Booked a BA holiday to Marr...</td>\n",
       "      <td>booked a ba holiday to marrakech, after postin...</td>\n",
       "    </tr>\n",
       "    <tr>\n",
       "      <th>1</th>\n",
       "      <td>✅ Trip Verified | Extremely sub-par service. H...</td>\n",
       "      <td>extremely sub-par service. highlights: no onl...</td>\n",
       "    </tr>\n",
       "    <tr>\n",
       "      <th>2</th>\n",
       "      <td>✅ Trip Verified |  I virtually gave up on Brit...</td>\n",
       "      <td>i virtually gave up on british airways about t...</td>\n",
       "    </tr>\n",
       "    <tr>\n",
       "      <th>3</th>\n",
       "      <td>✅ Trip Verified |  I was pleasantly surprised ...</td>\n",
       "      <td>i was pleasantly surprised that the airline co...</td>\n",
       "    </tr>\n",
       "    <tr>\n",
       "      <th>4</th>\n",
       "      <td>✅ Trip Verified |  British Airways is late, th...</td>\n",
       "      <td>british airways is late, their website is atro...</td>\n",
       "    </tr>\n",
       "    <tr>\n",
       "      <th>...</th>\n",
       "      <td>...</td>\n",
       "      <td>...</td>\n",
       "    </tr>\n",
       "    <tr>\n",
       "      <th>3421</th>\n",
       "      <td>Flight from Heathrow to Toronto. Booked emerge...</td>\n",
       "      <td>flight from heathrow to toronto. booked emerge...</td>\n",
       "    </tr>\n",
       "    <tr>\n",
       "      <th>3422</th>\n",
       "      <td>LHR to HAM. Purser addresses all club passenge...</td>\n",
       "      <td>lhr to ham. purser addresses all club passenge...</td>\n",
       "    </tr>\n",
       "    <tr>\n",
       "      <th>3423</th>\n",
       "      <td>My son who had worked for British Airways urge...</td>\n",
       "      <td>my son who had worked for british airways urge...</td>\n",
       "    </tr>\n",
       "    <tr>\n",
       "      <th>3424</th>\n",
       "      <td>London City-New York JFK via Shannon on A318 b...</td>\n",
       "      <td>london city-new york jfk via shannon on a318 b...</td>\n",
       "    </tr>\n",
       "    <tr>\n",
       "      <th>3425</th>\n",
       "      <td>SIN-LHR BA12 B747-436 First Class. Old aircraf...</td>\n",
       "      <td>sin-lhr ba12 b747-436 first class. old aircraf...</td>\n",
       "    </tr>\n",
       "  </tbody>\n",
       "</table>\n",
       "<p>3408 rows × 2 columns</p>\n",
       "</div>"
      ],
      "text/plain": [
       "                                                reviews  \\\n",
       "0     ✅ Trip Verified |  Booked a BA holiday to Marr...   \n",
       "1     ✅ Trip Verified | Extremely sub-par service. H...   \n",
       "2     ✅ Trip Verified |  I virtually gave up on Brit...   \n",
       "3     ✅ Trip Verified |  I was pleasantly surprised ...   \n",
       "4     ✅ Trip Verified |  British Airways is late, th...   \n",
       "...                                                 ...   \n",
       "3421  Flight from Heathrow to Toronto. Booked emerge...   \n",
       "3422  LHR to HAM. Purser addresses all club passenge...   \n",
       "3423  My son who had worked for British Airways urge...   \n",
       "3424  London City-New York JFK via Shannon on A318 b...   \n",
       "3425  SIN-LHR BA12 B747-436 First Class. Old aircraf...   \n",
       "\n",
       "                                          clean_reviews  \n",
       "0     booked a ba holiday to marrakech, after postin...  \n",
       "1      extremely sub-par service. highlights: no onl...  \n",
       "2     i virtually gave up on british airways about t...  \n",
       "3     i was pleasantly surprised that the airline co...  \n",
       "4     british airways is late, their website is atro...  \n",
       "...                                                 ...  \n",
       "3421  flight from heathrow to toronto. booked emerge...  \n",
       "3422  lhr to ham. purser addresses all club passenge...  \n",
       "3423  my son who had worked for british airways urge...  \n",
       "3424  london city-new york jfk via shannon on a318 b...  \n",
       "3425  sin-lhr ba12 b747-436 first class. old aircraf...  \n",
       "\n",
       "[3408 rows x 2 columns]"
      ]
     },
     "execution_count": 7,
     "metadata": {},
     "output_type": "execute_result"
    }
   ],
   "source": [
    "## Cleaning Text\n",
    "import re \n",
    "def review_cleaner(reviews):\n",
    "    emoj = re.compile(\"[\"\n",
    "        u\"\\U0001F600-\\U0001F64F\"  # emoticons\n",
    "        u\"\\U0001F300-\\U0001F5FF\"  # symbols & pictographs\n",
    "        u\"\\U0001F680-\\U0001F6FF\"  # transport & map symbols\n",
    "        u\"\\U0001F1E0-\\U0001F1FF\"  # flags (iOS)\n",
    "        u\"\\U00002500-\\U00002BEF\"  # chinese char\n",
    "        u\"\\U00002702-\\U000027B0\"\n",
    "        u\"\\U000024C2-\\U0001F251\"\n",
    "        u\"\\U0001f926-\\U0001f937\"\n",
    "        u\"\\U00010000-\\U0010ffff\"\n",
    "        u\"\\u2640-\\u2642\" \n",
    "        u\"\\u2600-\\u2B55\"\n",
    "        u\"\\u200d\"\n",
    "        u\"\\u23cf\"\n",
    "        u\"\\u23e9\"\n",
    "        u\"\\u231a\"\n",
    "        u\"\\ufe0f\"  # dingbats\n",
    "        u\"\\u3030\"\n",
    "                      \"]+\", re.UNICODE)\n",
    "\n",
    "    reviews = re.sub(emoj, '', reviews) # remove emojis\n",
    "    reviews = re.sub('Trip Verified', '', reviews) # remove Trip Verified\n",
    "    reviews = re.sub('Not Verified |  ', '', reviews) # remove Not Verified\n",
    "    reviews = reviews.replace('|', '') # Remove Vertical Bar\n",
    "    reviews = reviews.lower()\n",
    "    return reviews\n",
    "\n",
    "\n",
    "\n",
    "df['clean_reviews'] = df['reviews'].apply(review_cleaner)\n",
    "df"
   ]
  },
  {
   "cell_type": "code",
   "execution_count": 8,
   "metadata": {},
   "outputs": [
    {
     "data": {
      "text/plain": [
       "'booked a ba holiday to marrakech, after posting a negative review regarding my double tier points credit, i can now confirm that the points have been credited. it took a while but ba did eventually make good on their promise, thank you. based on things now being resolved i have travelled on ba since and i am booked to travel to south africa in first class on 2nd january, looking forward to the new ba concorde lounge. keep it up ba, loyalty is indeed a 2way street.'"
      ]
     },
     "execution_count": 8,
     "metadata": {},
     "output_type": "execute_result"
    }
   ],
   "source": [
    "df.clean_reviews[0]"
   ]
  },
  {
   "cell_type": "code",
   "execution_count": 9,
   "metadata": {},
   "outputs": [
    {
     "data": {
      "text/plain": [
       "\"british airways is late, their website is atrocious, and they wouldn't let me check-in until 24 hours before the flight. i have been trying for 6 hours to check in through their website, and/or find a real person to speak with. customer service had such a thick accent i didn't think they were speaking english. \""
      ]
     },
     "execution_count": 9,
     "metadata": {},
     "output_type": "execute_result"
    }
   ],
   "source": [
    "df.clean_reviews[4]"
   ]
  },
  {
   "cell_type": "code",
   "execution_count": 10,
   "metadata": {},
   "outputs": [
    {
     "data": {
      "text/plain": [
       "' ba encourage you to download verifly to speed up your check-in, this is absolutely rubbish as the desk staff don’t seem to want this, they want to see the actual forms tests etc! this wasted about 40 minutes and is pointless. the return flight again had no access to the club lounge, you pay for extras such as this as part of the business class ticket price and should by now be made available again (last 2 flight not available at nce but this is more a part of the covid experience). on board staff were good although one did joke to another welcome to ryanair. on board food was very good for a short haul flight.'"
      ]
     },
     "execution_count": 10,
     "metadata": {},
     "output_type": "execute_result"
    }
   ],
   "source": [
    "df.clean_reviews[256]"
   ]
  },
  {
   "cell_type": "code",
   "execution_count": 11,
   "metadata": {},
   "outputs": [],
   "source": [
    "df.to_csv('BA_reviews_updated', index=False)"
   ]
  },
  {
   "cell_type": "markdown",
   "metadata": {},
   "source": [
    "# Vader Sentiment Scoring"
   ]
  },
  {
   "cell_type": "code",
   "execution_count": 12,
   "metadata": {},
   "outputs": [
    {
     "name": "stdout",
     "output_type": "stream",
     "text": [
      "✅ Trip Verified |  Booked a BA holiday to Marrakech, after posting a negative review regarding my double tier points credit, I can now confirm that the points have been credited. It took a while but BA did eventually make good on their promise, thank you. Based on things now being resolved I have travelled on BA since and I am booked to travel to South Africa in First class on 2nd January, looking forward to the new BA Concorde lounge. Keep it up BA, loyalty is indeed a 2way street.\n",
      "booked a ba holiday to marrakech, after posting a negative review regarding my double tier points credit, i can now confirm that the points have been credited. it took a while but ba did eventually make good on their promise, thank you. based on things now being resolved i have travelled on ba since and i am booked to travel to south africa in first class on 2nd january, looking forward to the new ba concorde lounge. keep it up ba, loyalty is indeed a 2way street.\n",
      "{'neg': 0.025, 'neu': 0.743, 'pos': 0.233, 'compound': 0.9578}\n"
     ]
    }
   ],
   "source": [
    "import nltk\n",
    "from nltk.sentiment import SentimentIntensityAnalyzer\n",
    "#nltk.download('vader_lexicon')\n",
    "\n",
    "sia = SentimentIntensityAnalyzer()\n",
    "original = df.reviews[0]\n",
    "print(original)\n",
    "example = df.clean_reviews[0]\n",
    "print(example)\n",
    "print(sia.polarity_scores(example))"
   ]
  },
  {
   "cell_type": "code",
   "execution_count": 13,
   "metadata": {},
   "outputs": [
    {
     "name": "stderr",
     "output_type": "stream",
     "text": [
      "/var/folders/87/jh63yc3x2tgf72ln53c1n40c0000gn/T/ipykernel_9043/2320401152.py:2: SettingWithCopyWarning: \n",
      "A value is trying to be set on a copy of a slice from a DataFrame.\n",
      "Try using .loc[row_indexer,col_indexer] = value instead\n",
      "\n",
      "See the caveats in the documentation: https://pandas.pydata.org/pandas-docs/stable/user_guide/indexing.html#returning-a-view-versus-a-copy\n",
      "  df['compound_score'] = df['clean_reviews'].apply(score_function)\n"
     ]
    },
    {
     "data": {
      "text/html": [
       "<div>\n",
       "<style scoped>\n",
       "    .dataframe tbody tr th:only-of-type {\n",
       "        vertical-align: middle;\n",
       "    }\n",
       "\n",
       "    .dataframe tbody tr th {\n",
       "        vertical-align: top;\n",
       "    }\n",
       "\n",
       "    .dataframe thead th {\n",
       "        text-align: right;\n",
       "    }\n",
       "</style>\n",
       "<table border=\"1\" class=\"dataframe\">\n",
       "  <thead>\n",
       "    <tr style=\"text-align: right;\">\n",
       "      <th></th>\n",
       "      <th>reviews</th>\n",
       "      <th>clean_reviews</th>\n",
       "      <th>compound_score</th>\n",
       "    </tr>\n",
       "  </thead>\n",
       "  <tbody>\n",
       "    <tr>\n",
       "      <th>0</th>\n",
       "      <td>✅ Trip Verified |  Booked a BA holiday to Marr...</td>\n",
       "      <td>booked a ba holiday to marrakech, after postin...</td>\n",
       "      <td>0.9578</td>\n",
       "    </tr>\n",
       "    <tr>\n",
       "      <th>1</th>\n",
       "      <td>✅ Trip Verified | Extremely sub-par service. H...</td>\n",
       "      <td>extremely sub-par service. highlights: no onl...</td>\n",
       "      <td>-0.4576</td>\n",
       "    </tr>\n",
       "    <tr>\n",
       "      <th>2</th>\n",
       "      <td>✅ Trip Verified |  I virtually gave up on Brit...</td>\n",
       "      <td>i virtually gave up on british airways about t...</td>\n",
       "      <td>0.9799</td>\n",
       "    </tr>\n",
       "    <tr>\n",
       "      <th>3</th>\n",
       "      <td>✅ Trip Verified |  I was pleasantly surprised ...</td>\n",
       "      <td>i was pleasantly surprised that the airline co...</td>\n",
       "      <td>0.8603</td>\n",
       "    </tr>\n",
       "    <tr>\n",
       "      <th>4</th>\n",
       "      <td>✅ Trip Verified |  British Airways is late, th...</td>\n",
       "      <td>british airways is late, their website is atro...</td>\n",
       "      <td>0.0000</td>\n",
       "    </tr>\n",
       "    <tr>\n",
       "      <th>...</th>\n",
       "      <td>...</td>\n",
       "      <td>...</td>\n",
       "      <td>...</td>\n",
       "    </tr>\n",
       "    <tr>\n",
       "      <th>3421</th>\n",
       "      <td>Flight from Heathrow to Toronto. Booked emerge...</td>\n",
       "      <td>flight from heathrow to toronto. booked emerge...</td>\n",
       "      <td>-0.6562</td>\n",
       "    </tr>\n",
       "    <tr>\n",
       "      <th>3422</th>\n",
       "      <td>LHR to HAM. Purser addresses all club passenge...</td>\n",
       "      <td>lhr to ham. purser addresses all club passenge...</td>\n",
       "      <td>0.8720</td>\n",
       "    </tr>\n",
       "    <tr>\n",
       "      <th>3423</th>\n",
       "      <td>My son who had worked for British Airways urge...</td>\n",
       "      <td>my son who had worked for british airways urge...</td>\n",
       "      <td>0.4516</td>\n",
       "    </tr>\n",
       "    <tr>\n",
       "      <th>3424</th>\n",
       "      <td>London City-New York JFK via Shannon on A318 b...</td>\n",
       "      <td>london city-new york jfk via shannon on a318 b...</td>\n",
       "      <td>0.9148</td>\n",
       "    </tr>\n",
       "    <tr>\n",
       "      <th>3425</th>\n",
       "      <td>SIN-LHR BA12 B747-436 First Class. Old aircraf...</td>\n",
       "      <td>sin-lhr ba12 b747-436 first class. old aircraf...</td>\n",
       "      <td>0.8096</td>\n",
       "    </tr>\n",
       "  </tbody>\n",
       "</table>\n",
       "<p>3408 rows × 3 columns</p>\n",
       "</div>"
      ],
      "text/plain": [
       "                                                reviews  \\\n",
       "0     ✅ Trip Verified |  Booked a BA holiday to Marr...   \n",
       "1     ✅ Trip Verified | Extremely sub-par service. H...   \n",
       "2     ✅ Trip Verified |  I virtually gave up on Brit...   \n",
       "3     ✅ Trip Verified |  I was pleasantly surprised ...   \n",
       "4     ✅ Trip Verified |  British Airways is late, th...   \n",
       "...                                                 ...   \n",
       "3421  Flight from Heathrow to Toronto. Booked emerge...   \n",
       "3422  LHR to HAM. Purser addresses all club passenge...   \n",
       "3423  My son who had worked for British Airways urge...   \n",
       "3424  London City-New York JFK via Shannon on A318 b...   \n",
       "3425  SIN-LHR BA12 B747-436 First Class. Old aircraf...   \n",
       "\n",
       "                                          clean_reviews  compound_score  \n",
       "0     booked a ba holiday to marrakech, after postin...          0.9578  \n",
       "1      extremely sub-par service. highlights: no onl...         -0.4576  \n",
       "2     i virtually gave up on british airways about t...          0.9799  \n",
       "3     i was pleasantly surprised that the airline co...          0.8603  \n",
       "4     british airways is late, their website is atro...          0.0000  \n",
       "...                                                 ...             ...  \n",
       "3421  flight from heathrow to toronto. booked emerge...         -0.6562  \n",
       "3422  lhr to ham. purser addresses all club passenge...          0.8720  \n",
       "3423  my son who had worked for british airways urge...          0.4516  \n",
       "3424  london city-new york jfk via shannon on a318 b...          0.9148  \n",
       "3425  sin-lhr ba12 b747-436 first class. old aircraf...          0.8096  \n",
       "\n",
       "[3408 rows x 3 columns]"
      ]
     },
     "execution_count": 13,
     "metadata": {},
     "output_type": "execute_result"
    }
   ],
   "source": [
    "score_function = lambda title: sia.polarity_scores(title)['compound']\n",
    "df['compound_score'] = df['clean_reviews'].apply(score_function)\n",
    "df"
   ]
  },
  {
   "cell_type": "code",
   "execution_count": 14,
   "metadata": {
    "scrolled": false
   },
   "outputs": [
    {
     "name": "stdout",
     "output_type": "stream",
     "text": [
      "✅ Trip Verified |  British Airways is late, their website is atrocious, and they wouldn't let me check-in until 24 hours before the flight. I have been trying for 6 hours to check in through their website, and/or find a real person to speak with. Customer service had such a thick accent I didn't think they were speaking English. \n",
      "0.0\n"
     ]
    }
   ],
   "source": [
    "print(df.reviews[4])\n",
    "print(df.compound_score[4])"
   ]
  },
  {
   "cell_type": "code",
   "execution_count": 15,
   "metadata": {},
   "outputs": [
    {
     "name": "stdout",
     "output_type": "stream",
     "text": [
      "✅ Trip Verified | BA encourage you to download verifly to speed up your check-in, this is absolutely rubbish as the desk staff don’t seem to want this, they want to see the actual forms tests etc! This wasted about 40 minutes and is pointless. The return flight again had no access to the club lounge, you pay for extras such as this as part of the business class ticket price and should by now be made available again (last 2 flight not available at NCE but this is more a part of the Covid experience). On board staff were good although one did joke to another welcome to Ryanair. On board food was very good for a short haul flight.\n",
      "0.9333\n"
     ]
    }
   ],
   "source": [
    "print(df.reviews[256])\n",
    "print(df.compound_score[256])"
   ]
  },
  {
   "cell_type": "code",
   "execution_count": 16,
   "metadata": {
    "scrolled": true
   },
   "outputs": [
    {
     "name": "stdout",
     "output_type": "stream",
     "text": [
      "✅ Trip Verified |  London to Gothenburg. BA are getting a lot of bad press - deservedly so at present with strikes, IT glitches, baggage problems. However extreme cases will always be highlighted. Two recent flights on BA, and very happy with them. Flight to Gothenburg on A319-100, pushed back 25m late due to a potential technical issue, soon resolved and arrived at GOT only 15m behind schedule. Good crew and the Safety Announcement video was a hoot. Return to LHR on A320-232. On time departure and early arrival at T5. Again good crew. Will be flying with BA again in December (strikes permitting). Still recommended by me as the National Carrier.\n",
      "0.7501\n"
     ]
    }
   ],
   "source": [
    "print(df.reviews[495])\n",
    "print(df.compound_score[495])"
   ]
  },
  {
   "cell_type": "code",
   "execution_count": 17,
   "metadata": {},
   "outputs": [
    {
     "name": "stdout",
     "output_type": "stream",
     "text": [
      "✅ Trip Verified |  I purchased a ticket for Dublin to Mauritius on British Airways for 23 Feb 2019. On the day of travel, a few hours before the departure time, I realized that I would not be able to make it and so I got in touch with British Airways on Twitter advising them of my cancellation. When I arrived home, I asked them to officially cancel my ticket and issue me a refund. I understood that my ticket was a non-refundable one, but it says on the ticket that surcharges, taxes and airport fees would be refundable which should have amounted to at least 250 euro. However, all the airline  refunded me was a pitiful 50 euro. I have been trying to speak to British Airways on Twitter many times over the past few months, and they never responded positively, only insisting that they were doing the right thing and that their position would not change. British Airways is being dishonest and should be avoided.\n",
      "-0.956\n"
     ]
    }
   ],
   "source": [
    "print(df.reviews[508])\n",
    "print(df.compound_score[508])"
   ]
  },
  {
   "cell_type": "code",
   "execution_count": 18,
   "metadata": {},
   "outputs": [
    {
     "name": "stderr",
     "output_type": "stream",
     "text": [
      "/var/folders/87/jh63yc3x2tgf72ln53c1n40c0000gn/T/ipykernel_9043/888554679.py:8: SettingWithCopyWarning: \n",
      "A value is trying to be set on a copy of a slice from a DataFrame.\n",
      "Try using .loc[row_indexer,col_indexer] = value instead\n",
      "\n",
      "See the caveats in the documentation: https://pandas.pydata.org/pandas-docs/stable/user_guide/indexing.html#returning-a-view-versus-a-copy\n",
      "  df['sentiment'] = df['compound_score'].apply(getSentiment)\n"
     ]
    },
    {
     "data": {
      "text/html": [
       "<div>\n",
       "<style scoped>\n",
       "    .dataframe tbody tr th:only-of-type {\n",
       "        vertical-align: middle;\n",
       "    }\n",
       "\n",
       "    .dataframe tbody tr th {\n",
       "        vertical-align: top;\n",
       "    }\n",
       "\n",
       "    .dataframe thead th {\n",
       "        text-align: right;\n",
       "    }\n",
       "</style>\n",
       "<table border=\"1\" class=\"dataframe\">\n",
       "  <thead>\n",
       "    <tr style=\"text-align: right;\">\n",
       "      <th></th>\n",
       "      <th>reviews</th>\n",
       "      <th>clean_reviews</th>\n",
       "      <th>compound_score</th>\n",
       "      <th>sentiment</th>\n",
       "    </tr>\n",
       "  </thead>\n",
       "  <tbody>\n",
       "    <tr>\n",
       "      <th>0</th>\n",
       "      <td>✅ Trip Verified |  Booked a BA holiday to Marr...</td>\n",
       "      <td>booked a ba holiday to marrakech, after postin...</td>\n",
       "      <td>0.9578</td>\n",
       "      <td>Pos</td>\n",
       "    </tr>\n",
       "    <tr>\n",
       "      <th>1</th>\n",
       "      <td>✅ Trip Verified | Extremely sub-par service. H...</td>\n",
       "      <td>extremely sub-par service. highlights: no onl...</td>\n",
       "      <td>-0.4576</td>\n",
       "      <td>Neg</td>\n",
       "    </tr>\n",
       "    <tr>\n",
       "      <th>2</th>\n",
       "      <td>✅ Trip Verified |  I virtually gave up on Brit...</td>\n",
       "      <td>i virtually gave up on british airways about t...</td>\n",
       "      <td>0.9799</td>\n",
       "      <td>Pos</td>\n",
       "    </tr>\n",
       "    <tr>\n",
       "      <th>3</th>\n",
       "      <td>✅ Trip Verified |  I was pleasantly surprised ...</td>\n",
       "      <td>i was pleasantly surprised that the airline co...</td>\n",
       "      <td>0.8603</td>\n",
       "      <td>Pos</td>\n",
       "    </tr>\n",
       "    <tr>\n",
       "      <th>4</th>\n",
       "      <td>✅ Trip Verified |  British Airways is late, th...</td>\n",
       "      <td>british airways is late, their website is atro...</td>\n",
       "      <td>0.0000</td>\n",
       "      <td>Pos</td>\n",
       "    </tr>\n",
       "    <tr>\n",
       "      <th>...</th>\n",
       "      <td>...</td>\n",
       "      <td>...</td>\n",
       "      <td>...</td>\n",
       "      <td>...</td>\n",
       "    </tr>\n",
       "    <tr>\n",
       "      <th>3421</th>\n",
       "      <td>Flight from Heathrow to Toronto. Booked emerge...</td>\n",
       "      <td>flight from heathrow to toronto. booked emerge...</td>\n",
       "      <td>-0.6562</td>\n",
       "      <td>Neg</td>\n",
       "    </tr>\n",
       "    <tr>\n",
       "      <th>3422</th>\n",
       "      <td>LHR to HAM. Purser addresses all club passenge...</td>\n",
       "      <td>lhr to ham. purser addresses all club passenge...</td>\n",
       "      <td>0.8720</td>\n",
       "      <td>Pos</td>\n",
       "    </tr>\n",
       "    <tr>\n",
       "      <th>3423</th>\n",
       "      <td>My son who had worked for British Airways urge...</td>\n",
       "      <td>my son who had worked for british airways urge...</td>\n",
       "      <td>0.4516</td>\n",
       "      <td>Pos</td>\n",
       "    </tr>\n",
       "    <tr>\n",
       "      <th>3424</th>\n",
       "      <td>London City-New York JFK via Shannon on A318 b...</td>\n",
       "      <td>london city-new york jfk via shannon on a318 b...</td>\n",
       "      <td>0.9148</td>\n",
       "      <td>Pos</td>\n",
       "    </tr>\n",
       "    <tr>\n",
       "      <th>3425</th>\n",
       "      <td>SIN-LHR BA12 B747-436 First Class. Old aircraf...</td>\n",
       "      <td>sin-lhr ba12 b747-436 first class. old aircraf...</td>\n",
       "      <td>0.8096</td>\n",
       "      <td>Pos</td>\n",
       "    </tr>\n",
       "  </tbody>\n",
       "</table>\n",
       "<p>3408 rows × 4 columns</p>\n",
       "</div>"
      ],
      "text/plain": [
       "                                                reviews  \\\n",
       "0     ✅ Trip Verified |  Booked a BA holiday to Marr...   \n",
       "1     ✅ Trip Verified | Extremely sub-par service. H...   \n",
       "2     ✅ Trip Verified |  I virtually gave up on Brit...   \n",
       "3     ✅ Trip Verified |  I was pleasantly surprised ...   \n",
       "4     ✅ Trip Verified |  British Airways is late, th...   \n",
       "...                                                 ...   \n",
       "3421  Flight from Heathrow to Toronto. Booked emerge...   \n",
       "3422  LHR to HAM. Purser addresses all club passenge...   \n",
       "3423  My son who had worked for British Airways urge...   \n",
       "3424  London City-New York JFK via Shannon on A318 b...   \n",
       "3425  SIN-LHR BA12 B747-436 First Class. Old aircraf...   \n",
       "\n",
       "                                          clean_reviews  compound_score  \\\n",
       "0     booked a ba holiday to marrakech, after postin...          0.9578   \n",
       "1      extremely sub-par service. highlights: no onl...         -0.4576   \n",
       "2     i virtually gave up on british airways about t...          0.9799   \n",
       "3     i was pleasantly surprised that the airline co...          0.8603   \n",
       "4     british airways is late, their website is atro...          0.0000   \n",
       "...                                                 ...             ...   \n",
       "3421  flight from heathrow to toronto. booked emerge...         -0.6562   \n",
       "3422  lhr to ham. purser addresses all club passenge...          0.8720   \n",
       "3423  my son who had worked for british airways urge...          0.4516   \n",
       "3424  london city-new york jfk via shannon on a318 b...          0.9148   \n",
       "3425  sin-lhr ba12 b747-436 first class. old aircraf...          0.8096   \n",
       "\n",
       "     sentiment  \n",
       "0          Pos  \n",
       "1          Neg  \n",
       "2          Pos  \n",
       "3          Pos  \n",
       "4          Pos  \n",
       "...        ...  \n",
       "3421       Neg  \n",
       "3422       Pos  \n",
       "3423       Pos  \n",
       "3424       Pos  \n",
       "3425       Pos  \n",
       "\n",
       "[3408 rows x 4 columns]"
      ]
     },
     "execution_count": 18,
     "metadata": {},
     "output_type": "execute_result"
    }
   ],
   "source": [
    "## Sentiment Column based on compound_score value\n",
    "def getSentiment(score):\n",
    "    if score < 0:\n",
    "        return 'Neg'\n",
    "    else:\n",
    "        return 'Pos'\n",
    "\n",
    "df['sentiment'] = df['compound_score'].apply(getSentiment)\n",
    "df"
   ]
  },
  {
   "cell_type": "code",
   "execution_count": 19,
   "metadata": {},
   "outputs": [
    {
     "data": {
      "image/png": "[encoded data removed]",
      "text/plain": [
       "<Figure size 640x480 with 1 Axes>"
      ]
     },
     "metadata": {},
     "output_type": "display_data"
    }
   ],
   "source": [
    "import seaborn as sns\n",
    "ax = sns.countplot(df, x='sentiment')\n",
    "ax.set_title('Sentiment Analysis')\n",
    "for container in ax.containers:\n",
    "    ax.bar_label(container)"
   ]
  },
  {
   "cell_type": "code",
   "execution_count": 20,
   "metadata": {},
   "outputs": [
    {
     "data": {
      "image/png": "[encoded data removed]",
      "text/plain": [
       "<Figure size 800x500 with 1 Axes>"
      ]
     },
     "metadata": {},
     "output_type": "display_data"
    }
   ],
   "source": [
    "import matplotlib.pyplot as plt\n",
    "\n",
    "plt.figure(figsize=(8, 5))\n",
    "sns.histplot(df, x='compound_score', bins=10, binrange=(-1, 1))\n",
    "plt.title(\"Customer Reviews Sentiment Distribution\")\n",
    "plt.xlabel(\"Compound Scores\")\n",
    "plt.tight_layout()"
   ]
  }
 ],
 "metadata": {
  "kernelspec": {
   "display_name": "nlp",
   "language": "python",
   "name": "nlp"
  },
  "language_info": {
   "codemirror_mode": {
    "name": "ipython",
    "version": 3
   },
   "file_extension": ".py",
   "mimetype": "text/x-python",
   "name": "python",
   "nbconvert_exporter": "python",
   "pygments_lexer": "ipython3",
   "version": "3.11.0"
  },
  "vscode": {
   "interpreter": {
    "hash": "4f7924c4c56b083e0e50eadfe7ef592a7a8ef70df33a0047f82280e6be1afe15"
   }
  }
 },
 "nbformat": 4,
 "nbformat_minor": 2
}
